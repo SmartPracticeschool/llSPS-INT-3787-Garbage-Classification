{
 "cells": [
  {
   "cell_type": "markdown",
   "metadata": {},
   "source": [
    "# Garbage Classification using CNN-(Arfath)"
   ]
  },
  {
   "cell_type": "code",
   "execution_count": 1,
   "metadata": {},
   "outputs": [
    {
     "name": "stderr",
     "output_type": "stream",
     "text": [
      "Using TensorFlow backend.\n",
      "E:\\Anaconda\\envs\\cnn\\lib\\site-packages\\tensorflow\\python\\framework\\dtypes.py:516: FutureWarning: Passing (type, 1) or '1type' as a synonym of type is deprecated; in a future version of numpy, it will be understood as (type, (1,)) / '(1,)type'.\n",
      "  _np_qint8 = np.dtype([(\"qint8\", np.int8, 1)])\n",
      "E:\\Anaconda\\envs\\cnn\\lib\\site-packages\\tensorflow\\python\\framework\\dtypes.py:517: FutureWarning: Passing (type, 1) or '1type' as a synonym of type is deprecated; in a future version of numpy, it will be understood as (type, (1,)) / '(1,)type'.\n",
      "  _np_quint8 = np.dtype([(\"quint8\", np.uint8, 1)])\n",
      "E:\\Anaconda\\envs\\cnn\\lib\\site-packages\\tensorflow\\python\\framework\\dtypes.py:518: FutureWarning: Passing (type, 1) or '1type' as a synonym of type is deprecated; in a future version of numpy, it will be understood as (type, (1,)) / '(1,)type'.\n",
      "  _np_qint16 = np.dtype([(\"qint16\", np.int16, 1)])\n",
      "E:\\Anaconda\\envs\\cnn\\lib\\site-packages\\tensorflow\\python\\framework\\dtypes.py:519: FutureWarning: Passing (type, 1) or '1type' as a synonym of type is deprecated; in a future version of numpy, it will be understood as (type, (1,)) / '(1,)type'.\n",
      "  _np_quint16 = np.dtype([(\"quint16\", np.uint16, 1)])\n",
      "E:\\Anaconda\\envs\\cnn\\lib\\site-packages\\tensorflow\\python\\framework\\dtypes.py:520: FutureWarning: Passing (type, 1) or '1type' as a synonym of type is deprecated; in a future version of numpy, it will be understood as (type, (1,)) / '(1,)type'.\n",
      "  _np_qint32 = np.dtype([(\"qint32\", np.int32, 1)])\n",
      "E:\\Anaconda\\envs\\cnn\\lib\\site-packages\\tensorflow\\python\\framework\\dtypes.py:525: FutureWarning: Passing (type, 1) or '1type' as a synonym of type is deprecated; in a future version of numpy, it will be understood as (type, (1,)) / '(1,)type'.\n",
      "  np_resource = np.dtype([(\"resource\", np.ubyte, 1)])\n",
      "E:\\Anaconda\\envs\\cnn\\lib\\site-packages\\tensorboard\\compat\\tensorflow_stub\\dtypes.py:541: FutureWarning: Passing (type, 1) or '1type' as a synonym of type is deprecated; in a future version of numpy, it will be understood as (type, (1,)) / '(1,)type'.\n",
      "  _np_qint8 = np.dtype([(\"qint8\", np.int8, 1)])\n",
      "E:\\Anaconda\\envs\\cnn\\lib\\site-packages\\tensorboard\\compat\\tensorflow_stub\\dtypes.py:542: FutureWarning: Passing (type, 1) or '1type' as a synonym of type is deprecated; in a future version of numpy, it will be understood as (type, (1,)) / '(1,)type'.\n",
      "  _np_quint8 = np.dtype([(\"quint8\", np.uint8, 1)])\n",
      "E:\\Anaconda\\envs\\cnn\\lib\\site-packages\\tensorboard\\compat\\tensorflow_stub\\dtypes.py:543: FutureWarning: Passing (type, 1) or '1type' as a synonym of type is deprecated; in a future version of numpy, it will be understood as (type, (1,)) / '(1,)type'.\n",
      "  _np_qint16 = np.dtype([(\"qint16\", np.int16, 1)])\n",
      "E:\\Anaconda\\envs\\cnn\\lib\\site-packages\\tensorboard\\compat\\tensorflow_stub\\dtypes.py:544: FutureWarning: Passing (type, 1) or '1type' as a synonym of type is deprecated; in a future version of numpy, it will be understood as (type, (1,)) / '(1,)type'.\n",
      "  _np_quint16 = np.dtype([(\"quint16\", np.uint16, 1)])\n",
      "E:\\Anaconda\\envs\\cnn\\lib\\site-packages\\tensorboard\\compat\\tensorflow_stub\\dtypes.py:545: FutureWarning: Passing (type, 1) or '1type' as a synonym of type is deprecated; in a future version of numpy, it will be understood as (type, (1,)) / '(1,)type'.\n",
      "  _np_qint32 = np.dtype([(\"qint32\", np.int32, 1)])\n",
      "E:\\Anaconda\\envs\\cnn\\lib\\site-packages\\tensorboard\\compat\\tensorflow_stub\\dtypes.py:550: FutureWarning: Passing (type, 1) or '1type' as a synonym of type is deprecated; in a future version of numpy, it will be understood as (type, (1,)) / '(1,)type'.\n",
      "  np_resource = np.dtype([(\"resource\", np.ubyte, 1)])\n"
     ]
    }
   ],
   "source": [
    "import keras\n",
    "from tensorflow.keras.layers import Conv2D, Flatten, MaxPooling2D, Dropout, BatchNormalization\n",
    "from keras.models import Sequential\n",
    "from keras.layers import Dense\n",
    "from keras.layers import Convolution2D\n",
    "from keras.layers import MaxPooling2D\n",
    "from keras.layers import Flatten\n",
    "from keras.layers import Dropout"
   ]
  },
  {
   "cell_type": "code",
   "execution_count": 2,
   "metadata": {},
   "outputs": [],
   "source": [
    "from keras.preprocessing.image import ImageDataGenerator\n",
    "train_datagen = ImageDataGenerator(rescale = 1./255, shear_range=0.2, zoom_range=0.2, horizontal_flip=True)\n",
    "test_datagen = ImageDataGenerator(rescale = 1./255)"
   ]
  },
  {
   "cell_type": "code",
   "execution_count": 3,
   "metadata": {},
   "outputs": [
    {
     "name": "stdout",
     "output_type": "stream",
     "text": [
      "Found 1768 images belonging to 6 classes.\n"
     ]
    }
   ],
   "source": [
    "x_train = train_datagen.flow_from_directory(r'C:\\arfath\\train', target_size=(64,64), batch_size=64, class_mode='categorical')"
   ]
  },
  {
   "cell_type": "code",
   "execution_count": 4,
   "metadata": {},
   "outputs": [
    {
     "data": {
      "text/plain": [
       "{'cardboard': 0, 'glass': 1, 'metal': 2, 'paper': 3, 'plastic': 4, 'trash': 5}"
      ]
     },
     "execution_count": 4,
     "metadata": {},
     "output_type": "execute_result"
    }
   ],
   "source": [
    "x_train.class_indices"
   ]
  },
  {
   "cell_type": "code",
   "execution_count": 5,
   "metadata": {},
   "outputs": [
    {
     "name": "stdout",
     "output_type": "stream",
     "text": [
      "Found 431 images belonging to 6 classes.\n"
     ]
    }
   ],
   "source": [
    "x_test = test_datagen.flow_from_directory(r'C:\\arfath\\test', target_size=(64,64), batch_size=64, class_mode='categorical')"
   ]
  },
  {
   "cell_type": "code",
   "execution_count": 6,
   "metadata": {},
   "outputs": [
    {
     "data": {
      "text/plain": [
       "(64, 64, 3)"
      ]
     },
     "execution_count": 6,
     "metadata": {},
     "output_type": "execute_result"
    }
   ],
   "source": [
    "x_train.image_shape"
   ]
  },
  {
   "cell_type": "code",
   "execution_count": 7,
   "metadata": {},
   "outputs": [
    {
     "data": {
      "text/plain": [
       "{'cardboard': 0, 'glass': 1, 'metal': 2, 'paper': 3, 'plastic': 4, 'trash': 5}"
      ]
     },
     "execution_count": 7,
     "metadata": {},
     "output_type": "execute_result"
    }
   ],
   "source": [
    "x_test.class_indices"
   ]
  },
  {
   "cell_type": "markdown",
   "metadata": {},
   "source": [
    "### creating the model"
   ]
  },
  {
   "cell_type": "code",
   "execution_count": 8,
   "metadata": {},
   "outputs": [
    {
     "name": "stdout",
     "output_type": "stream",
     "text": [
      "WARNING:tensorflow:From E:\\Anaconda\\envs\\cnn\\lib\\site-packages\\keras\\backend\\tensorflow_backend.py:74: The name tf.get_default_graph is deprecated. Please use tf.compat.v1.get_default_graph instead.\n",
      "\n"
     ]
    }
   ],
   "source": [
    "model = Sequential()"
   ]
  },
  {
   "cell_type": "code",
   "execution_count": 9,
   "metadata": {},
   "outputs": [
    {
     "name": "stdout",
     "output_type": "stream",
     "text": [
      "WARNING:tensorflow:From E:\\Anaconda\\envs\\cnn\\lib\\site-packages\\keras\\backend\\tensorflow_backend.py:517: The name tf.placeholder is deprecated. Please use tf.compat.v1.placeholder instead.\n",
      "\n",
      "WARNING:tensorflow:From E:\\Anaconda\\envs\\cnn\\lib\\site-packages\\keras\\backend\\tensorflow_backend.py:4138: The name tf.random_uniform is deprecated. Please use tf.random.uniform instead.\n",
      "\n"
     ]
    }
   ],
   "source": [
    "model.add(Convolution2D(32,(3,3), input_shape=(64,64,3), strides=(1,1), padding='same', activation = 'relu'))"
   ]
  },
  {
   "cell_type": "code",
   "execution_count": 10,
   "metadata": {
    "scrolled": true
   },
   "outputs": [
    {
     "name": "stdout",
     "output_type": "stream",
     "text": [
      "WARNING:tensorflow:From E:\\Anaconda\\envs\\cnn\\lib\\site-packages\\keras\\backend\\tensorflow_backend.py:3976: The name tf.nn.max_pool is deprecated. Please use tf.nn.max_pool2d instead.\n",
      "\n"
     ]
    }
   ],
   "source": [
    "model.add(MaxPooling2D(pool_size=(2,2)))"
   ]
  },
  {
   "cell_type": "code",
   "execution_count": 11,
   "metadata": {},
   "outputs": [],
   "source": [
    "model.add(Convolution2D(64,(3,3), input_shape=(64,64,3), strides=(1,1), padding='same', activation = 'relu'))"
   ]
  },
  {
   "cell_type": "code",
   "execution_count": 12,
   "metadata": {},
   "outputs": [],
   "source": [
    "model.add(MaxPooling2D(pool_size=(2,2)))"
   ]
  },
  {
   "cell_type": "code",
   "execution_count": 13,
   "metadata": {},
   "outputs": [],
   "source": [
    "model.add(Convolution2D(128,(3,3), input_shape=(64,64,3), strides=(1,1), padding='same', activation = 'relu'))"
   ]
  },
  {
   "cell_type": "code",
   "execution_count": 14,
   "metadata": {},
   "outputs": [],
   "source": [
    "model.add(MaxPooling2D(pool_size=(2,2)))"
   ]
  },
  {
   "cell_type": "code",
   "execution_count": 15,
   "metadata": {},
   "outputs": [],
   "source": [
    "model.add(Convolution2D(128,(3,3), input_shape=(64,64,3), strides=(1,1), padding='same', activation = 'relu'))"
   ]
  },
  {
   "cell_type": "code",
   "execution_count": 16,
   "metadata": {},
   "outputs": [],
   "source": [
    "model.add(MaxPooling2D(pool_size=(2,2)))"
   ]
  },
  {
   "cell_type": "code",
   "execution_count": 17,
   "metadata": {},
   "outputs": [
    {
     "name": "stdout",
     "output_type": "stream",
     "text": [
      "WARNING:tensorflow:From E:\\Anaconda\\envs\\cnn\\lib\\site-packages\\keras\\backend\\tensorflow_backend.py:133: The name tf.placeholder_with_default is deprecated. Please use tf.compat.v1.placeholder_with_default instead.\n",
      "\n",
      "WARNING:tensorflow:From E:\\Anaconda\\envs\\cnn\\lib\\site-packages\\keras\\backend\\tensorflow_backend.py:3445: calling dropout (from tensorflow.python.ops.nn_ops) with keep_prob is deprecated and will be removed in a future version.\n",
      "Instructions for updating:\n",
      "Please use `rate` instead of `keep_prob`. Rate should be set to `rate = 1 - keep_prob`.\n"
     ]
    }
   ],
   "source": [
    "model.add(Dropout(0.25))"
   ]
  },
  {
   "cell_type": "code",
   "execution_count": 18,
   "metadata": {},
   "outputs": [],
   "source": [
    "model.add(Flatten())"
   ]
  },
  {
   "cell_type": "code",
   "execution_count": 19,
   "metadata": {},
   "outputs": [
    {
     "name": "stderr",
     "output_type": "stream",
     "text": [
      "E:\\Anaconda\\envs\\cnn\\lib\\site-packages\\ipykernel_launcher.py:1: UserWarning: Update your `Dense` call to the Keras 2 API: `Dense(activation=\"relu\", units=512)`\n",
      "  \"\"\"Entry point for launching an IPython kernel.\n"
     ]
    }
   ],
   "source": [
    "model.add(Dense(output_dim=512, activation='relu'))"
   ]
  },
  {
   "cell_type": "code",
   "execution_count": 20,
   "metadata": {},
   "outputs": [
    {
     "name": "stderr",
     "output_type": "stream",
     "text": [
      "E:\\Anaconda\\envs\\cnn\\lib\\site-packages\\ipykernel_launcher.py:1: UserWarning: Update your `Dense` call to the Keras 2 API: `Dense(activation=\"softmax\", units=6)`\n",
      "  \"\"\"Entry point for launching an IPython kernel.\n"
     ]
    }
   ],
   "source": [
    "model.add(Dense(output_dim= 6,activation='softmax'))"
   ]
  },
  {
   "cell_type": "code",
   "execution_count": 21,
   "metadata": {},
   "outputs": [
    {
     "name": "stdout",
     "output_type": "stream",
     "text": [
      "WARNING:tensorflow:From E:\\Anaconda\\envs\\cnn\\lib\\site-packages\\keras\\optimizers.py:790: The name tf.train.Optimizer is deprecated. Please use tf.compat.v1.train.Optimizer instead.\n",
      "\n",
      "WARNING:tensorflow:From E:\\Anaconda\\envs\\cnn\\lib\\site-packages\\keras\\backend\\tensorflow_backend.py:3295: The name tf.log is deprecated. Please use tf.math.log instead.\n",
      "\n"
     ]
    }
   ],
   "source": [
    "model.compile(loss='categorical_crossentropy', optimizer ='adam', metrics= ['accuracy'])"
   ]
  },
  {
   "cell_type": "code",
   "execution_count": 23,
   "metadata": {},
   "outputs": [
    {
     "data": {
      "text/plain": [
       "32"
      ]
     },
     "execution_count": 23,
     "metadata": {},
     "output_type": "execute_result"
    }
   ],
   "source": [
    "2056//64"
   ]
  },
  {
   "cell_type": "code",
   "execution_count": 24,
   "metadata": {},
   "outputs": [
    {
     "name": "stdout",
     "output_type": "stream",
     "text": [
      "WARNING:tensorflow:From E:\\Anaconda\\envs\\cnn\\lib\\site-packages\\tensorflow\\python\\ops\\math_grad.py:1250: add_dispatch_support.<locals>.wrapper (from tensorflow.python.ops.array_ops) is deprecated and will be removed in a future version.\n",
      "Instructions for updating:\n",
      "Use tf.where in 2.0, which has the same broadcast rule as np.where\n",
      "Epoch 1/100\n",
      "28/28 [==============================] - 28s 989ms/step - loss: 1.7300 - acc: 0.2224 - val_loss: 1.6834 - val_acc: 0.2506\n",
      "Epoch 2/100\n",
      "28/28 [==============================] - 20s 715ms/step - loss: 1.5728 - acc: 0.3395 - val_loss: 1.3998 - val_acc: 0.4594\n",
      "Epoch 3/100\n",
      "28/28 [==============================] - 19s 686ms/step - loss: 1.4376 - acc: 0.4209 - val_loss: 1.3379 - val_acc: 0.4339\n",
      "Epoch 4/100\n",
      "28/28 [==============================] - 19s 682ms/step - loss: 1.3437 - acc: 0.4498 - val_loss: 1.3587 - val_acc: 0.4339\n",
      "Epoch 5/100\n",
      "28/28 [==============================] - 19s 685ms/step - loss: 1.2369 - acc: 0.4990 - val_loss: 1.4118 - val_acc: 0.4455\n",
      "Epoch 6/100\n",
      "28/28 [==============================] - 20s 700ms/step - loss: 1.1996 - acc: 0.5232 - val_loss: 1.1071 - val_acc: 0.5568\n",
      "Epoch 7/100\n",
      "28/28 [==============================] - 19s 690ms/step - loss: 1.1057 - acc: 0.5694 - val_loss: 1.4251 - val_acc: 0.4756\n",
      "Epoch 8/100\n",
      "28/28 [==============================] - 19s 688ms/step - loss: 1.0978 - acc: 0.5668 - val_loss: 1.2521 - val_acc: 0.5429\n",
      "Epoch 9/100\n",
      "28/28 [==============================] - 19s 679ms/step - loss: 0.9753 - acc: 0.6215 - val_loss: 1.1872 - val_acc: 0.5800\n",
      "Epoch 10/100\n",
      "28/28 [==============================] - 19s 676ms/step - loss: 0.9843 - acc: 0.6197 - val_loss: 1.2588 - val_acc: 0.5545\n",
      "Epoch 11/100\n",
      "28/28 [==============================] - 19s 688ms/step - loss: 0.9235 - acc: 0.6408 - val_loss: 0.9834 - val_acc: 0.6427\n",
      "Epoch 12/100\n",
      "28/28 [==============================] - 19s 692ms/step - loss: 0.8409 - acc: 0.6879 - val_loss: 1.1161 - val_acc: 0.6195\n",
      "Epoch 13/100\n",
      "28/28 [==============================] - 19s 687ms/step - loss: 0.7975 - acc: 0.6958 - val_loss: 1.0919 - val_acc: 0.6102\n",
      "Epoch 14/100\n",
      "28/28 [==============================] - 19s 685ms/step - loss: 0.7852 - acc: 0.7056 - val_loss: 1.0552 - val_acc: 0.6195\n",
      "Epoch 15/100\n",
      "28/28 [==============================] - 19s 671ms/step - loss: 0.7585 - acc: 0.7123 - val_loss: 0.8857 - val_acc: 0.6937\n",
      "Epoch 16/100\n",
      "28/28 [==============================] - 19s 683ms/step - loss: 0.8761 - acc: 0.6704 - val_loss: 1.2182 - val_acc: 0.5800\n",
      "Epoch 17/100\n",
      "28/28 [==============================] - 19s 694ms/step - loss: 0.7727 - acc: 0.7105 - val_loss: 1.0397 - val_acc: 0.6520\n",
      "Epoch 18/100\n",
      "28/28 [==============================] - 19s 686ms/step - loss: 0.6708 - acc: 0.7555 - val_loss: 1.0452 - val_acc: 0.6613\n",
      "Epoch 19/100\n",
      "28/28 [==============================] - 20s 716ms/step - loss: 0.6684 - acc: 0.7493 - val_loss: 1.0142 - val_acc: 0.6613\n",
      "Epoch 20/100\n",
      "28/28 [==============================] - 22s 803ms/step - loss: 0.7177 - acc: 0.7220 - val_loss: 0.9663 - val_acc: 0.6821\n",
      "Epoch 21/100\n",
      "28/28 [==============================] - 21s 742ms/step - loss: 0.6391 - acc: 0.7657 - val_loss: 0.9602 - val_acc: 0.6682\n",
      "Epoch 22/100\n",
      "28/28 [==============================] - 20s 727ms/step - loss: 0.5932 - acc: 0.7823 - val_loss: 1.1815 - val_acc: 0.6311\n",
      "Epoch 23/100\n",
      "28/28 [==============================] - 20s 715ms/step - loss: 0.5693 - acc: 0.7896 - val_loss: 0.9181 - val_acc: 0.7077\n",
      "Epoch 24/100\n",
      "28/28 [==============================] - 20s 701ms/step - loss: 0.4903 - acc: 0.8146 - val_loss: 1.1240 - val_acc: 0.6729\n",
      "Epoch 25/100\n",
      "28/28 [==============================] - 19s 691ms/step - loss: 0.5007 - acc: 0.8124 - val_loss: 1.0524 - val_acc: 0.6984\n",
      "Epoch 26/100\n",
      "28/28 [==============================] - 20s 710ms/step - loss: 0.4802 - acc: 0.8377 - val_loss: 1.0181 - val_acc: 0.6868\n",
      "Epoch 27/100\n",
      "28/28 [==============================] - 19s 675ms/step - loss: 0.4684 - acc: 0.8309 - val_loss: 0.9573 - val_acc: 0.7216\n",
      "Epoch 28/100\n",
      "28/28 [==============================] - 19s 687ms/step - loss: 0.4047 - acc: 0.8481 - val_loss: 0.9006 - val_acc: 0.7193\n",
      "Epoch 29/100\n",
      "28/28 [==============================] - 19s 690ms/step - loss: 0.4629 - acc: 0.8273 - val_loss: 0.9695 - val_acc: 0.7309\n",
      "Epoch 30/100\n",
      "28/28 [==============================] - 19s 679ms/step - loss: 0.3739 - acc: 0.8642 - val_loss: 0.8684 - val_acc: 0.7517\n",
      "Epoch 31/100\n",
      "28/28 [==============================] - 19s 682ms/step - loss: 0.3925 - acc: 0.8605 - val_loss: 0.9757 - val_acc: 0.7216\n",
      "Epoch 32/100\n",
      "28/28 [==============================] - 19s 684ms/step - loss: 0.4179 - acc: 0.8478 - val_loss: 1.3618 - val_acc: 0.6427\n",
      "Epoch 33/100\n",
      "28/28 [==============================] - 19s 673ms/step - loss: 0.3707 - acc: 0.8642 - val_loss: 1.0655 - val_acc: 0.7193\n",
      "Epoch 34/100\n",
      "28/28 [==============================] - 19s 685ms/step - loss: 0.3954 - acc: 0.8599 - val_loss: 0.8881 - val_acc: 0.7332\n",
      "Epoch 35/100\n",
      "28/28 [==============================] - 19s 684ms/step - loss: 0.4531 - acc: 0.8323 - val_loss: 0.9132 - val_acc: 0.7285\n",
      "Epoch 36/100\n",
      "28/28 [==============================] - 19s 684ms/step - loss: 0.2827 - acc: 0.9013 - val_loss: 1.0308 - val_acc: 0.7309\n",
      "Epoch 37/100\n",
      "28/28 [==============================] - 20s 716ms/step - loss: 0.2675 - acc: 0.9001 - val_loss: 0.9529 - val_acc: 0.7448\n",
      "Epoch 38/100\n",
      "28/28 [==============================] - 19s 682ms/step - loss: 0.2510 - acc: 0.9123 - val_loss: 1.1277 - val_acc: 0.7285\n",
      "Epoch 39/100\n",
      "28/28 [==============================] - 20s 711ms/step - loss: 0.2542 - acc: 0.9078 - val_loss: 1.1052 - val_acc: 0.7285\n",
      "Epoch 40/100\n",
      "28/28 [==============================] - 20s 713ms/step - loss: 0.2272 - acc: 0.9189 - val_loss: 1.4490 - val_acc: 0.7007\n",
      "Epoch 41/100\n",
      "28/28 [==============================] - 19s 670ms/step - loss: 0.2526 - acc: 0.9050 - val_loss: 1.0694 - val_acc: 0.7587\n",
      "Epoch 42/100\n",
      "28/28 [==============================] - 19s 685ms/step - loss: 0.2439 - acc: 0.9094 - val_loss: 0.9993 - val_acc: 0.7517\n",
      "Epoch 43/100\n",
      "28/28 [==============================] - 19s 695ms/step - loss: 0.2021 - acc: 0.9272 - val_loss: 1.2307 - val_acc: 0.7332\n",
      "Epoch 44/100\n",
      "28/28 [==============================] - 20s 697ms/step - loss: 0.2026 - acc: 0.9206 - val_loss: 1.2113 - val_acc: 0.7309\n",
      "Epoch 45/100\n",
      "28/28 [==============================] - 19s 680ms/step - loss: 0.1995 - acc: 0.9265 - val_loss: 1.0966 - val_acc: 0.7425\n",
      "Epoch 46/100\n",
      "28/28 [==============================] - 19s 682ms/step - loss: 0.1834 - acc: 0.9359 - val_loss: 0.9407 - val_acc: 0.7773\n",
      "Epoch 47/100\n",
      "28/28 [==============================] - 19s 675ms/step - loss: 0.1559 - acc: 0.9416 - val_loss: 1.2727 - val_acc: 0.7123\n",
      "Epoch 48/100\n",
      "28/28 [==============================] - 19s 686ms/step - loss: 0.1842 - acc: 0.9292 - val_loss: 1.1281 - val_acc: 0.7517\n",
      "Epoch 49/100\n",
      "28/28 [==============================] - 19s 691ms/step - loss: 0.2274 - acc: 0.9221 - val_loss: 1.0736 - val_acc: 0.7726\n",
      "Epoch 50/100\n",
      "28/28 [==============================] - 19s 680ms/step - loss: 0.1921 - acc: 0.9293 - val_loss: 1.1183 - val_acc: 0.7401\n",
      "Epoch 51/100\n",
      "28/28 [==============================] - 19s 687ms/step - loss: 0.1591 - acc: 0.9412 - val_loss: 1.0190 - val_acc: 0.7726\n",
      "Epoch 52/100\n",
      "28/28 [==============================] - 19s 671ms/step - loss: 0.1276 - acc: 0.9525 - val_loss: 1.2576 - val_acc: 0.7471\n",
      "Epoch 53/100\n",
      "28/28 [==============================] - 19s 692ms/step - loss: 0.1711 - acc: 0.9396 - val_loss: 1.1918 - val_acc: 0.7541\n",
      "Epoch 54/100\n",
      "28/28 [==============================] - 19s 696ms/step - loss: 0.1362 - acc: 0.9530 - val_loss: 1.2728 - val_acc: 0.7332\n",
      "Epoch 55/100\n",
      "28/28 [==============================] - 19s 682ms/step - loss: 0.1445 - acc: 0.9485 - val_loss: 1.1214 - val_acc: 0.7564\n",
      "Epoch 56/100\n",
      "28/28 [==============================] - 19s 684ms/step - loss: 0.1912 - acc: 0.9330 - val_loss: 1.5420 - val_acc: 0.6798\n",
      "Epoch 57/100\n",
      "28/28 [==============================] - 19s 678ms/step - loss: 0.2041 - acc: 0.9335 - val_loss: 1.1019 - val_acc: 0.7448\n",
      "Epoch 58/100\n",
      "28/28 [==============================] - 19s 682ms/step - loss: 0.1033 - acc: 0.9642 - val_loss: 1.1124 - val_acc: 0.7564\n",
      "Epoch 59/100\n"
     ]
    },
    {
     "name": "stdout",
     "output_type": "stream",
     "text": [
      "28/28 [==============================] - 19s 694ms/step - loss: 0.0907 - acc: 0.9667 - val_loss: 1.0514 - val_acc: 0.7680\n",
      "Epoch 60/100\n",
      "28/28 [==============================] - 19s 682ms/step - loss: 0.0962 - acc: 0.9686 - val_loss: 1.0948 - val_acc: 0.7610\n",
      "Epoch 61/100\n",
      "28/28 [==============================] - 19s 678ms/step - loss: 0.0992 - acc: 0.9693 - val_loss: 1.2149 - val_acc: 0.7517\n",
      "Epoch 62/100\n",
      "28/28 [==============================] - 19s 686ms/step - loss: 0.0958 - acc: 0.9673 - val_loss: 1.1748 - val_acc: 0.7425\n",
      "Epoch 63/100\n",
      "28/28 [==============================] - 19s 685ms/step - loss: 0.1560 - acc: 0.9466 - val_loss: 1.5422 - val_acc: 0.6821\n",
      "Epoch 64/100\n",
      "28/28 [==============================] - 19s 695ms/step - loss: 0.1744 - acc: 0.9388 - val_loss: 1.0691 - val_acc: 0.7633\n",
      "Epoch 65/100\n",
      "28/28 [==============================] - 19s 682ms/step - loss: 0.0921 - acc: 0.9676 - val_loss: 1.3411 - val_acc: 0.7401\n",
      "Epoch 66/100\n",
      "28/28 [==============================] - 19s 672ms/step - loss: 0.0757 - acc: 0.9734 - val_loss: 1.2798 - val_acc: 0.7657\n",
      "Epoch 67/100\n",
      "28/28 [==============================] - 19s 683ms/step - loss: 0.0805 - acc: 0.9749 - val_loss: 1.2288 - val_acc: 0.7726\n",
      "Epoch 68/100\n",
      "28/28 [==============================] - 19s 689ms/step - loss: 0.1803 - acc: 0.9407 - val_loss: 1.9418 - val_acc: 0.6404\n",
      "Epoch 69/100\n",
      "28/28 [==============================] - 19s 674ms/step - loss: 0.1723 - acc: 0.9408 - val_loss: 1.0152 - val_acc: 0.7610\n",
      "Epoch 70/100\n",
      "28/28 [==============================] - 19s 694ms/step - loss: 0.1023 - acc: 0.9631 - val_loss: 1.1783 - val_acc: 0.7355\n",
      "Epoch 71/100\n",
      "28/28 [==============================] - 19s 678ms/step - loss: 0.0722 - acc: 0.9753 - val_loss: 1.1335 - val_acc: 0.7680\n",
      "Epoch 72/100\n",
      "28/28 [==============================] - 19s 678ms/step - loss: 0.0832 - acc: 0.9726 - val_loss: 1.2179 - val_acc: 0.7657\n",
      "Epoch 73/100\n",
      "28/28 [==============================] - 19s 683ms/step - loss: 0.0828 - acc: 0.9720 - val_loss: 1.1948 - val_acc: 0.7494\n",
      "Epoch 74/100\n",
      "28/28 [==============================] - 19s 677ms/step - loss: 0.0594 - acc: 0.9799 - val_loss: 1.2443 - val_acc: 0.7517\n",
      "Epoch 75/100\n",
      "28/28 [==============================] - 20s 703ms/step - loss: 0.0519 - acc: 0.9833 - val_loss: 1.2549 - val_acc: 0.7564\n",
      "Epoch 76/100\n",
      "28/28 [==============================] - 19s 693ms/step - loss: 0.0587 - acc: 0.9805 - val_loss: 1.1695 - val_acc: 0.7587\n",
      "Epoch 77/100\n",
      "28/28 [==============================] - 19s 673ms/step - loss: 0.0825 - acc: 0.9707 - val_loss: 1.3696 - val_acc: 0.7541\n",
      "Epoch 78/100\n",
      "28/28 [==============================] - 19s 680ms/step - loss: 0.2157 - acc: 0.9426 - val_loss: 1.0648 - val_acc: 0.7401\n",
      "Epoch 79/100\n",
      "28/28 [==============================] - 19s 685ms/step - loss: 0.0935 - acc: 0.9684 - val_loss: 1.1478 - val_acc: 0.7541\n",
      "Epoch 80/100\n",
      "28/28 [==============================] - 22s 785ms/step - loss: 0.0739 - acc: 0.9782 - val_loss: 1.1559 - val_acc: 0.7726\n",
      "Epoch 81/100\n",
      "28/28 [==============================] - 20s 699ms/step - loss: 0.0616 - acc: 0.9827 - val_loss: 1.2916 - val_acc: 0.7448\n",
      "Epoch 82/100\n",
      "28/28 [==============================] - 19s 683ms/step - loss: 0.0605 - acc: 0.9788 - val_loss: 1.2647 - val_acc: 0.7517\n",
      "Epoch 83/100\n",
      "28/28 [==============================] - 19s 670ms/step - loss: 0.0585 - acc: 0.9806 - val_loss: 1.3703 - val_acc: 0.7517\n",
      "Epoch 84/100\n",
      "28/28 [==============================] - 21s 744ms/step - loss: 0.0679 - acc: 0.9765 - val_loss: 1.2890 - val_acc: 0.7494\n",
      "Epoch 85/100\n",
      "28/28 [==============================] - 20s 709ms/step - loss: 0.1051 - acc: 0.9608 - val_loss: 1.2809 - val_acc: 0.7401\n",
      "Epoch 86/100\n",
      "28/28 [==============================] - 20s 728ms/step - loss: 0.1087 - acc: 0.9681 - val_loss: 1.1557 - val_acc: 0.7494\n",
      "Epoch 87/100\n",
      "28/28 [==============================] - 20s 714ms/step - loss: 0.0814 - acc: 0.9723 - val_loss: 1.2266 - val_acc: 0.7564\n",
      "Epoch 88/100\n",
      "28/28 [==============================] - 19s 696ms/step - loss: 0.0762 - acc: 0.9773 - val_loss: 1.2396 - val_acc: 0.7471\n",
      "Epoch 89/100\n",
      "28/28 [==============================] - 21s 761ms/step - loss: 0.0551 - acc: 0.9824 - val_loss: 1.2428 - val_acc: 0.7448\n",
      "Epoch 90/100\n",
      "28/28 [==============================] - 20s 701ms/step - loss: 0.0403 - acc: 0.9877 - val_loss: 1.4409 - val_acc: 0.7610\n",
      "Epoch 91/100\n",
      "28/28 [==============================] - 19s 691ms/step - loss: 0.0271 - acc: 0.9911 - val_loss: 1.4423 - val_acc: 0.7564\n",
      "Epoch 92/100\n",
      "28/28 [==============================] - 19s 685ms/step - loss: 0.0612 - acc: 0.9820 - val_loss: 1.5380 - val_acc: 0.7332\n",
      "Epoch 93/100\n",
      "28/28 [==============================] - 19s 686ms/step - loss: 0.0937 - acc: 0.9614 - val_loss: 1.6273 - val_acc: 0.7471\n",
      "Epoch 94/100\n",
      "28/28 [==============================] - 19s 688ms/step - loss: 0.0613 - acc: 0.9801 - val_loss: 1.5137 - val_acc: 0.7262\n",
      "Epoch 95/100\n",
      "28/28 [==============================] - 19s 678ms/step - loss: 0.0610 - acc: 0.9766 - val_loss: 1.3533 - val_acc: 0.7680\n",
      "Epoch 96/100\n",
      "28/28 [==============================] - 19s 691ms/step - loss: 0.0758 - acc: 0.9740 - val_loss: 1.3922 - val_acc: 0.7332\n",
      "Epoch 97/100\n",
      "28/28 [==============================] - 19s 683ms/step - loss: 0.0643 - acc: 0.9813 - val_loss: 1.3747 - val_acc: 0.7680\n",
      "Epoch 98/100\n",
      "28/28 [==============================] - 19s 681ms/step - loss: 0.0508 - acc: 0.9838 - val_loss: 1.5036 - val_acc: 0.7517\n",
      "Epoch 99/100\n",
      "28/28 [==============================] - 20s 708ms/step - loss: 0.0522 - acc: 0.9838 - val_loss: 1.7291 - val_acc: 0.7216\n",
      "Epoch 100/100\n",
      "28/28 [==============================] - 19s 692ms/step - loss: 0.0847 - acc: 0.9706 - val_loss: 1.4990 - val_acc: 0.7541\n"
     ]
    },
    {
     "data": {
      "text/plain": [
       "<keras.callbacks.History at 0x23189fd92c8>"
      ]
     },
     "execution_count": 24,
     "metadata": {},
     "output_type": "execute_result"
    }
   ],
   "source": [
    "model.fit_generator(x_train, steps_per_epoch=len(x_train), epochs=100, validation_data=x_test, validation_steps=len(x_test))"
   ]
  },
  {
   "cell_type": "markdown",
   "metadata": {},
   "source": [
    "### saving the model"
   ]
  },
  {
   "cell_type": "code",
   "execution_count": 25,
   "metadata": {},
   "outputs": [],
   "source": [
    "model.save('arf.h5')"
   ]
  },
  {
   "cell_type": "code",
   "execution_count": null,
   "metadata": {},
   "outputs": [],
   "source": []
  }
 ],
 "metadata": {
  "kernelspec": {
   "display_name": "Python 3",
   "language": "python",
   "name": "python3"
  },
  "language_info": {
   "codemirror_mode": {
    "name": "ipython",
    "version": 3
   },
   "file_extension": ".py",
   "mimetype": "text/x-python",
   "name": "python",
   "nbconvert_exporter": "python",
   "pygments_lexer": "ipython3",
   "version": "3.7.9"
  }
 },
 "nbformat": 4,
 "nbformat_minor": 4
}
